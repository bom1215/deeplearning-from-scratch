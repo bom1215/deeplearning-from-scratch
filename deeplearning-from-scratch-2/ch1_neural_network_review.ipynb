{
 "cells": [
  {
   "cell_type": "markdown",
   "metadata": {},
   "source": [
    "# 1.1 수학과 파이썬 복습\n",
    "## 1.1.1 벡터와 행렬"
   ]
  },
  {
   "cell_type": "code",
   "execution_count": 2,
   "metadata": {},
   "outputs": [],
   "source": [
    "import numpy as np\n",
    "from IPython.core.interactiveshell import InteractiveShell\n",
    "InteractiveShell.ast_node_interactivity = \"all\""
   ]
  },
  {
   "cell_type": "code",
   "execution_count": 3,
   "metadata": {},
   "outputs": [
    {
     "data": {
      "text/plain": [
       "numpy.ndarray"
      ]
     },
     "execution_count": 3,
     "metadata": {},
     "output_type": "execute_result"
    },
    {
     "data": {
      "text/plain": [
       "(3,)"
      ]
     },
     "execution_count": 3,
     "metadata": {},
     "output_type": "execute_result"
    },
    {
     "data": {
      "text/plain": [
       "1"
      ]
     },
     "execution_count": 3,
     "metadata": {},
     "output_type": "execute_result"
    },
    {
     "data": {
      "text/plain": [
       "(2, 3)"
      ]
     },
     "execution_count": 3,
     "metadata": {},
     "output_type": "execute_result"
    },
    {
     "data": {
      "text/plain": [
       "2"
      ]
     },
     "execution_count": 3,
     "metadata": {},
     "output_type": "execute_result"
    }
   ],
   "source": [
    "\n",
    "x = np.array([1,2,3])\n",
    "x.__class__\n",
    "x.shape\n",
    "x.ndim\n",
    "\n",
    "W = np.array([[1,2,3],[4,5,6]])\n",
    "W.shape\n",
    "W.ndim"
   ]
  },
  {
   "cell_type": "markdown",
   "metadata": {},
   "source": [
    "## 1.1.2 행렬의 원소별 연산"
   ]
  },
  {
   "cell_type": "code",
   "execution_count": 4,
   "metadata": {},
   "outputs": [
    {
     "data": {
      "text/plain": [
       "array([[ 1,  3,  5],\n",
       "       [ 7,  9, 11]])"
      ]
     },
     "execution_count": 4,
     "metadata": {},
     "output_type": "execute_result"
    },
    {
     "data": {
      "text/plain": [
       "array([[ 0,  2,  6],\n",
       "       [12, 20, 30]])"
      ]
     },
     "execution_count": 4,
     "metadata": {},
     "output_type": "execute_result"
    }
   ],
   "source": [
    "W = np.array([[1,2,3],[4,5,6]])\n",
    "X = np.array([[0,1,2],[3,4,5]])\n",
    "W+X\n",
    "W*X"
   ]
  },
  {
   "cell_type": "markdown",
   "metadata": {},
   "source": [
    "## 1.1.3 브로드캐스트"
   ]
  },
  {
   "cell_type": "code",
   "execution_count": 5,
   "metadata": {},
   "outputs": [
    {
     "data": {
      "text/plain": [
       "array([[10, 20],\n",
       "       [30, 40]])"
      ]
     },
     "execution_count": 5,
     "metadata": {},
     "output_type": "execute_result"
    }
   ],
   "source": [
    "A = np.array([[1,2],[3,4]])\n",
    "A * 10"
   ]
  },
  {
   "cell_type": "code",
   "execution_count": 6,
   "metadata": {},
   "outputs": [
    {
     "data": {
      "text/plain": [
       "array([[10, 40],\n",
       "       [30, 80]])"
      ]
     },
     "execution_count": 6,
     "metadata": {},
     "output_type": "execute_result"
    }
   ],
   "source": [
    "A = np.array([[1,2],[3,4]])\n",
    "b = np.array([[10,20]])\n",
    "A*b"
   ]
  },
  {
   "cell_type": "markdown",
   "metadata": {},
   "source": [
    "## 1.1.4 벡터의 내적과 행렬의 곱"
   ]
  },
  {
   "cell_type": "code",
   "execution_count": 7,
   "metadata": {},
   "outputs": [
    {
     "data": {
      "text/plain": [
       "np.int64(32)"
      ]
     },
     "execution_count": 7,
     "metadata": {},
     "output_type": "execute_result"
    },
    {
     "data": {
      "text/plain": [
       "array([[19, 22],\n",
       "       [43, 50]])"
      ]
     },
     "execution_count": 7,
     "metadata": {},
     "output_type": "execute_result"
    }
   ],
   "source": [
    "# 벡터의 내적\n",
    "a = np.array([1,2,3])\n",
    "b = np.array([4,5,6])\n",
    "np.dot(a,b)\n",
    "\n",
    "#행렬의 곱\n",
    "A = np.array([[1,2],[3,4]])\n",
    "B = np.array([[5,6],[7,8]])\n",
    "np.matmul(A, B)\n"
   ]
  },
  {
   "cell_type": "markdown",
   "metadata": {},
   "source": [
    "# 1.2 신경망의 추론\n",
    "### 1.2.1 신경망 추론 전체 그림"
   ]
  },
  {
   "cell_type": "code",
   "execution_count": 15,
   "metadata": {},
   "outputs": [
    {
     "data": {
      "text/plain": [
       "array([[-0.34454992, -0.08752482],\n",
       "       [-0.41396789,  0.01655693],\n",
       "       [-1.25494912,  0.12923967],\n",
       "       [-0.27466902,  1.53946173],\n",
       "       [-2.61186959, -0.01279258],\n",
       "       [ 0.96451687,  0.45274126],\n",
       "       [ 1.02374848,  1.00944191],\n",
       "       [ 1.04073107, -0.44538184],\n",
       "       [-0.97612656, -0.62813495],\n",
       "       [ 1.15053158, -1.93678549]])"
      ]
     },
     "execution_count": 15,
     "metadata": {},
     "output_type": "execute_result"
    },
    {
     "data": {
      "text/plain": [
       "array([[-0.42126826,  0.11655201,  0.54717247, -1.78580186],\n",
       "       [-0.62603312,  0.07305534,  0.5268574 , -2.06627231],\n",
       "       [-1.24109698,  0.09146197,  0.99604645, -3.26503261],\n",
       "       [-3.02882728, -0.66216251, -0.51118442, -4.82006703],\n",
       "       [-1.70733098,  0.27497154,  1.95482213, -4.57901178],\n",
       "       [-0.62664736, -0.25200618, -0.62899216, -1.29043738],\n",
       "       [-1.50072429, -0.52147719, -1.0137805 , -2.28737844],\n",
       "       [ 0.87173105,  0.1680395 , -0.11838519,  0.51869469],\n",
       "       [ 0.13267232,  0.42733091,  1.28902553, -1.4886443 ],\n",
       "       [ 3.35129703,  0.86699152,  0.74026652,  3.5033116 ]])"
      ]
     },
     "execution_count": 15,
     "metadata": {},
     "output_type": "execute_result"
    },
    {
     "data": {
      "text/plain": [
       "array([[0.39621331, 0.52910506, 0.63347933, 0.1435882 ],\n",
       "       [0.34841056, 0.51825572, 0.62874985, 0.11241845],\n",
       "       [0.2242451 , 0.52284957, 0.73028055, 0.03679045],\n",
       "       [0.04614041, 0.340254  , 0.37491591, 0.0080017 ],\n",
       "       [0.15351022, 0.568313  , 0.87597149, 0.01016074],\n",
       "       [0.34827113, 0.43732977, 0.3477391 , 0.21577879],\n",
       "       [0.18231752, 0.37250688, 0.26624065, 0.09217368],\n",
       "       [0.70510577, 0.5419113 , 0.47043822, 0.62684249],\n",
       "       [0.53311951, 0.60523614, 0.7839822 , 0.1841253 ],\n",
       "       [0.96614728, 0.70411931, 0.67705413, 0.97078185]])"
      ]
     },
     "execution_count": 15,
     "metadata": {},
     "output_type": "execute_result"
    },
    {
     "data": {
      "text/plain": [
       "array([[ 1.61327807, -0.3753685 , -0.53683058],\n",
       "       [ 1.58732851, -0.31629168, -0.58590113],\n",
       "       [ 1.67137528, -0.17518603, -0.78947441],\n",
       "       [ 1.13766837,  0.23387904, -0.54102264],\n",
       "       [ 1.82011593, -0.12514434, -0.95994395],\n",
       "       [ 1.18852678, -0.19995999, -0.21094748],\n",
       "       [ 1.02090076,  0.01745129, -0.35013767],\n",
       "       [ 1.46266724, -0.51963778,  0.37807358],\n",
       "       [ 1.877272  , -0.60952662, -0.58139285],\n",
       "       [ 1.77089033, -0.82706303,  0.74529553]])"
      ]
     },
     "execution_count": 15,
     "metadata": {},
     "output_type": "execute_result"
    }
   ],
   "source": [
    "import numpy as np\n",
    "\n",
    "\n",
    "def sigmoid(x):\n",
    "    return 1 / (1 + np.exp(-x))\n",
    "\n",
    "x = np.random.randn(10, 2) #입력\n",
    "x\n",
    "W1 = np.random.randn(2, 4) # 가중치\n",
    "b1 = np.random.randn(4) # 편향\n",
    "W2 = np.random.randn(4,3)\n",
    "b2 = np.random.randn(3)\n",
    "\n",
    "\n",
    "h = np.matmul(x, W1) + b1\n",
    "a = sigmoid(h)\n",
    "s = np.matmul(a, W2) + b2\n",
    "\n",
    "h\n",
    "a\n",
    "s"
   ]
  },
  {
   "cell_type": "markdown",
   "metadata": {},
   "source": [
    "## 1.2.2 계층으로 클래스화 및 순전파 구현"
   ]
  },
  {
   "cell_type": "code",
   "execution_count": null,
   "metadata": {},
   "outputs": [],
   "source": [
    "import numpy as np\n",
    "\n",
    "class Sigmoid:\n",
    "    def __init__(self):\n",
    "        self.params = []\n",
    "\n",
    "    def forward(self, x):\n",
    "        return 1 / (1 + np.exp(-x))\n",
    "    \n",
    "class Affine:\n",
    "    def __init__(self, W, b):\n",
    "        self.params = [W, b]\n",
    "    \n",
    "    def forward(self, x):\n",
    "        W, b = self.params\n",
    "        out = np.matmul(x, W) + B\n",
    "        return out\n",
    "    "
   ]
  }
 ],
 "metadata": {
  "kernelspec": {
   "display_name": ".venv",
   "language": "python",
   "name": "python3"
  },
  "language_info": {
   "codemirror_mode": {
    "name": "ipython",
    "version": 3
   },
   "file_extension": ".py",
   "mimetype": "text/x-python",
   "name": "python",
   "nbconvert_exporter": "python",
   "pygments_lexer": "ipython3",
   "version": "3.13.1"
  }
 },
 "nbformat": 4,
 "nbformat_minor": 2
}
